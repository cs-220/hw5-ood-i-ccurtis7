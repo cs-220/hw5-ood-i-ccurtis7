{
 "cells": [
  {
   "cell_type": "markdown",
   "id": "0bfd7ff6",
   "metadata": {},
   "source": [
    "# Problem 1\n",
    "\n",
    "Write a program to keep track of conference attendees. For each attendee, your program should keep track of name, company, state, and email address. Your program should allow users to add a new attendee, display information on an attendee, delete an attendee, list the names and email addresses of all attendees, and list the name and email addresses of all attendees from a given state. The attendee list should be stored in a file and loaded when the program starts."
   ]
  },
  {
   "cell_type": "code",
   "execution_count": null,
   "id": "87ddebb3",
   "metadata": {},
   "outputs": [],
   "source": []
  },
  {
   "cell_type": "code",
   "execution_count": null,
   "id": "1aa9836b",
   "metadata": {},
   "outputs": [],
   "source": []
  },
  {
   "cell_type": "markdown",
   "id": "a58723a3",
   "metadata": {},
   "source": [
    "# Problem 2\n",
    "\n",
    "Write a program that simulates an automatic teller machine (ATM). Since you probably don't have access to a card reader, have the initial screen ask for user ID and a PIN. The user ID will be used to look up teh information for the user's accounts (including the PIN to see whether it matches what the user types). Each user will have access to a checking account and a savings account. The user should be able to check balances, withdraw cach, and transfer money between accounts. Design your interface to be similar to what you see on your local ATM. The user account information should be stored in a file when the program terminates. This file is read in again when the program restarts."
   ]
  },
  {
   "cell_type": "code",
   "execution_count": null,
   "id": "7b5164a3",
   "metadata": {},
   "outputs": [],
   "source": []
  },
  {
   "cell_type": "code",
   "execution_count": null,
   "id": "53ea2dab",
   "metadata": {},
   "outputs": [],
   "source": []
  },
  {
   "cell_type": "code",
   "execution_count": null,
   "id": "c1c3fc38",
   "metadata": {},
   "outputs": [],
   "source": []
  }
 ],
 "metadata": {
  "kernelspec": {
   "display_name": "Python 3",
   "language": "python",
   "name": "python3"
  },
  "language_info": {
   "codemirror_mode": {
    "name": "ipython",
    "version": 3
   },
   "file_extension": ".py",
   "mimetype": "text/x-python",
   "name": "python",
   "nbconvert_exporter": "python",
   "pygments_lexer": "ipython3",
   "version": "3.8.8"
  }
 },
 "nbformat": 4,
 "nbformat_minor": 5
}
